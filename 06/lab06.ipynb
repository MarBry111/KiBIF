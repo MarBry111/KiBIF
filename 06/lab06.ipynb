{
 "cells": [
  {
   "cell_type": "code",
   "execution_count": 64,
   "metadata": {},
   "outputs": [],
   "source": [
    "import numpy as np\n",
    "from scipy.linalg import lu\n",
    "from scipy.interpolate import lagrange\n",
    "from welchberlekamp import makeEncoderDecoder"
   ]
  },
  {
   "cell_type": "markdown",
   "metadata": {},
   "source": [
    "# F_2\n",
    "http://www.math.unl.edu/~s-jeverso2/McElieceProject.pdf <br>\n",
    "$\\mathbb{F}_{2}$"
   ]
  },
  {
   "cell_type": "markdown",
   "metadata": {},
   "source": [
    "# F_23\n",
    "https://www.youtube.com/watch?v=GNgOJN9LD-I <br>\n",
    "https://jeremykun.com/2015/09/07/welch-berlekamp/ <br>\n",
    "$\\mathbb{F}_{23}$"
   ]
  },
  {
   "cell_type": "code",
   "execution_count": 50,
   "metadata": {},
   "outputs": [],
   "source": [
    "n = 23"
   ]
  },
  {
   "cell_type": "code",
   "execution_count": 51,
   "metadata": {},
   "outputs": [],
   "source": [
    "m = np.array([1, 2, 3], dtype = int)"
   ]
  },
  {
   "cell_type": "code",
   "execution_count": 52,
   "metadata": {},
   "outputs": [],
   "source": [
    "N = 6\n",
    "K = 3\n",
    "T = 1"
   ]
  },
  {
   "cell_type": "code",
   "execution_count": 53,
   "metadata": {},
   "outputs": [],
   "source": [
    "G = np.array([\n",
    "    [1, 1, 1, 1, 1, 1],\n",
    "    [0, 1, 2, 3, 4, 5],\n",
    "    [0, 1, 4, 9, 16, 25]], dtype = int) % n\n",
    "\n",
    "P = np.array([\n",
    "    [1, 0, 0, 0, 0, 0],\n",
    "    [0, 0, 0, 1, 0, 0],\n",
    "    [0, 1, 0, 0, 0, 0],\n",
    "    [0, 0, 0, 0, 0, 1],\n",
    "    [0, 0, 1, 0, 0, 0],\n",
    "    [0, 0, 0, 0, 1, 0]], dtype = int) % n\n",
    "\n",
    "S = np.array([\n",
    "    [1, 1, 3],\n",
    "    [4, 1, 6],\n",
    "    [7, 2, 9]], dtype = int) %n"
   ]
  },
  {
   "cell_type": "code",
   "execution_count": 54,
   "metadata": {},
   "outputs": [
    {
     "data": {
      "text/plain": [
       "array([[ 1, 15,  7,  5, 12,  8],\n",
       "       [ 4,  7, 12, 11, 21, 15],\n",
       "       [ 7,  1, 21, 18, 12,  2]])"
      ]
     },
     "execution_count": 54,
     "metadata": {},
     "output_type": "execute_result"
    }
   ],
   "source": [
    "SGP = S.dot(G).dot(P) % n\n",
    "SGP"
   ]
  },
  {
   "cell_type": "code",
   "execution_count": 55,
   "metadata": {},
   "outputs": [
    {
     "data": {
      "text/plain": [
       "array([ 7,  9,  2, 12, 21, 21])"
      ]
     },
     "execution_count": 55,
     "metadata": {},
     "output_type": "execute_result"
    }
   ],
   "source": [
    "c = m.dot(SGP) % n\n",
    "c"
   ]
  },
  {
   "cell_type": "code",
   "execution_count": 56,
   "metadata": {},
   "outputs": [
    {
     "data": {
      "text/plain": [
       "array([0, 6, 0, 0, 0, 0])"
      ]
     },
     "execution_count": 56,
     "metadata": {},
     "output_type": "execute_result"
    }
   ],
   "source": [
    "ei = np.random.randint(c.shape[0])\n",
    "ev = np.random.randint(n)\n",
    "err = np.zeros(c.shape[0], dtype = int)\n",
    "err[ei] = ev\n",
    "err = np.array([0, 6, 0, 0, 0, 0])\n",
    "err"
   ]
  },
  {
   "cell_type": "code",
   "execution_count": 57,
   "metadata": {},
   "outputs": [
    {
     "data": {
      "text/plain": [
       "array([ 7, 15,  2, 12, 21, 21])"
      ]
     },
     "execution_count": 57,
     "metadata": {},
     "output_type": "execute_result"
    }
   ],
   "source": [
    "c = (c + err) % n\n",
    "c"
   ]
  },
  {
   "cell_type": "code",
   "execution_count": 58,
   "metadata": {},
   "outputs": [],
   "source": [
    "P1 = np.linalg.inv(P)\n",
    "S1 = np.linalg.inv(S)"
   ]
  },
  {
   "cell_type": "code",
   "execution_count": 59,
   "metadata": {},
   "outputs": [
    {
     "data": {
      "text/plain": [
       "array([[1., 0., 0., 0., 0., 0.],\n",
       "       [0., 0., 1., 0., 0., 0.],\n",
       "       [0., 0., 0., 0., 1., 0.],\n",
       "       [0., 1., 0., 0., 0., 0.],\n",
       "       [0., 0., 0., 0., 0., 1.],\n",
       "       [0., 0., 0., 1., 0., 0.]])"
      ]
     },
     "execution_count": 59,
     "metadata": {},
     "output_type": "execute_result"
    }
   ],
   "source": [
    "P1 "
   ]
  },
  {
   "cell_type": "code",
   "execution_count": 60,
   "metadata": {},
   "outputs": [
    {
     "data": {
      "text/plain": [
       "array([ 7, 12, 15, 21,  2, 21])"
      ]
     },
     "execution_count": 60,
     "metadata": {},
     "output_type": "execute_result"
    }
   ],
   "source": [
    "c_m = c.dot(P1).astype(int)\n",
    "c_m"
   ]
  },
  {
   "cell_type": "markdown",
   "metadata": {},
   "source": [
    "### Berlekamp-Welch Algorithm"
   ]
  },
  {
   "cell_type": "code",
   "execution_count": 61,
   "metadata": {},
   "outputs": [
    {
     "data": {
      "text/plain": [
       "array([[ 0,  0,  0,  0,  1, 16],\n",
       "       [ 1,  1,  1,  1,  1, 11],\n",
       "       [16,  8,  4,  2,  1,  8],\n",
       "       [12,  4,  9,  3,  1,  2],\n",
       "       [ 3, 18, 16,  4,  1, 21],\n",
       "       [ 4, 10,  2,  5,  1,  2]])"
      ]
     },
     "execution_count": 61,
     "metadata": {},
     "output_type": "execute_result"
    }
   ],
   "source": [
    "a = np.arange(N, dtype = int)\n",
    "b = -c_m*a**2 \n",
    "b = b.astype(int) % n\n",
    "#b = np.concatenate([[b[0]], [1], b[1:]])\n",
    "\n",
    "z = np.zeros(N)\n",
    "z[1] = 1\n",
    "BW = np.concatenate([[c_m], [c_m*a], [-np.ones(N)], [-a], [-a**2], [-a**3]], axis = 0).T\n",
    "BW1 =  np.concatenate([[a**4],[a**3],[a**2],[a],[np.ones(N, int)],[-c_m]],axis = 0).T % n\n",
    "BW = BW.astype(int) % n\n",
    "BW1"
   ]
  },
  {
   "cell_type": "markdown",
   "metadata": {},
   "source": [
    "## Based on prepared code\n",
    "https://jeremykun.com/2015/09/07/welch-berlekamp/"
   ]
  },
  {
   "cell_type": "code",
   "execution_count": 76,
   "metadata": {},
   "outputs": [
    {
     "data": {
      "text/plain": [
       "array([1, 2, 3])"
      ]
     },
     "execution_count": 76,
     "metadata": {},
     "output_type": "execute_result"
    }
   ],
   "source": [
    "m"
   ]
  },
  {
   "cell_type": "code",
   "execution_count": 77,
   "metadata": {},
   "outputs": [
    {
     "data": {
      "text/plain": [
       "[[0 (mod 7), 1 (mod 7)],\n",
       " [1 (mod 7), 6 (mod 7)],\n",
       " [2 (mod 7), 3 (mod 7)],\n",
       " [3 (mod 7), 6 (mod 7)],\n",
       " [4 (mod 7), 1 (mod 7)],\n",
       " [5 (mod 7), 2 (mod 7)]]"
      ]
     },
     "execution_count": 77,
     "metadata": {},
     "output_type": "execute_result"
    }
   ],
   "source": [
    "enc, dec, solveSystem = makeEncoderDecoder(N, K, 7)\n",
    "encoded = enc(m)\n",
    "encoded"
   ]
  },
  {
   "cell_type": "code",
   "execution_count": 78,
   "metadata": {},
   "outputs": [
    {
     "data": {
      "text/plain": [
       "[[0 (mod 7), 1 (mod 7)],\n",
       " [1 (mod 7), 6 (mod 7)],\n",
       " [2 (mod 7), 3 (mod 7)],\n",
       " [3 (mod 7), 0 (mod 7)],\n",
       " [4 (mod 7), 1 (mod 7)],\n",
       " [5 (mod 7), 2 (mod 7)]]"
      ]
     },
     "execution_count": 78,
     "metadata": {},
     "output_type": "execute_result"
    }
   ],
   "source": [
    "e=1\n",
    "corrupted = encoded[:]\n",
    "corrupted[n//2][1] = corrupted[n//2][1] + 1\n",
    "corrupted"
   ]
  },
  {
   "cell_type": "code",
   "execution_count": 79,
   "metadata": {},
   "outputs": [
    {
     "name": "stdout",
     "output_type": "stream",
     "text": [
      "P(x) = 1 + 2 t^1 + 3 t^2\n",
      "r(x) = 0\n"
     ]
    }
   ],
   "source": [
    "Q,E = solveSystem(corrupted)\n",
    "P, remainder = (Q.__divmod__(E))\n",
    "\n",
    "print(\"P(x) = %r\" % P)\n",
    "print(\"r(x) = %r\" % remainder)"
   ]
  },
  {
   "cell_type": "code",
   "execution_count": null,
   "metadata": {},
   "outputs": [],
   "source": []
  }
 ],
 "metadata": {
  "kernelspec": {
   "display_name": "Python 3",
   "language": "python",
   "name": "python3"
  },
  "language_info": {
   "codemirror_mode": {
    "name": "ipython",
    "version": 3
   },
   "file_extension": ".py",
   "mimetype": "text/x-python",
   "name": "python",
   "nbconvert_exporter": "python",
   "pygments_lexer": "ipython3",
   "version": "3.7.5"
  }
 },
 "nbformat": 4,
 "nbformat_minor": 2
}
