{
 "cells": [
  {
   "cell_type": "code",
   "execution_count": 1,
   "metadata": {},
   "outputs": [],
   "source": [
    "import numpy as np"
   ]
  },
  {
   "cell_type": "markdown",
   "metadata": {},
   "source": [
    "# F_2\n",
    "http://www.math.unl.edu/~s-jeverso2/McElieceProject.pdf <br>\n",
    "$\\mathbb{F}_{2}$"
   ]
  },
  {
   "cell_type": "markdown",
   "metadata": {},
   "source": [
    "# F_23\n",
    "https://www.youtube.com/watch?v=GNgOJN9LD-I <br>\n",
    "https://jeremykun.com/2015/09/07/welch-berlekamp/ <br>\n",
    "https://en.wikipedia.org/wiki/Berlekamp%E2%80%93Welch_algorithm <br>\n",
    "$\\mathbb{F}_{23}$"
   ]
  },
  {
   "cell_type": "code",
   "execution_count": 2,
   "metadata": {},
   "outputs": [],
   "source": [
    "n = 23"
   ]
  },
  {
   "cell_type": "code",
   "execution_count": 3,
   "metadata": {},
   "outputs": [],
   "source": [
    "m = np.array([1, 2, 3], dtype = int)"
   ]
  },
  {
   "cell_type": "code",
   "execution_count": 4,
   "metadata": {},
   "outputs": [],
   "source": [
    "N = 6\n",
    "K = 3\n",
    "T = 1"
   ]
  },
  {
   "cell_type": "code",
   "execution_count": 5,
   "metadata": {},
   "outputs": [],
   "source": [
    "G = np.array([\n",
    "    [1, 1, 1, 1, 1, 1],\n",
    "    [0, 1, 2, 3, 4, 5],\n",
    "    [0, 1, 4, 9, 16, 25]], dtype = int) % n\n",
    "\n",
    "P = np.array([\n",
    "    [1, 0, 0, 0, 0, 0],\n",
    "    [0, 0, 0, 1, 0, 0],\n",
    "    [0, 1, 0, 0, 0, 0],\n",
    "    [0, 0, 0, 0, 0, 1],\n",
    "    [0, 0, 1, 0, 0, 0],\n",
    "    [0, 0, 0, 0, 1, 0]], dtype = int) % n\n",
    "\n",
    "S = np.array([\n",
    "    [1, 1, 3],\n",
    "    [4, 1, 6],\n",
    "    [7, 2, 9]], dtype = int) %n"
   ]
  },
  {
   "cell_type": "code",
   "execution_count": 59,
   "metadata": {},
   "outputs": [
    {
     "name": "stdout",
     "output_type": "stream",
     "text": [
      "1 &15 &7 &5 &12 &8 \\\\\n",
      "4 &7 &12 &11 &21 &15 \\\\\n",
      "7 &1 &21 &18 &12 &2 \\\\\n"
     ]
    }
   ],
   "source": [
    "for pi in SGP:\n",
    "    for pii in pi[:-1]:\n",
    "        print(pii,'&',end='')\n",
    "    print(pi[-1],'\\\\\\\\')"
   ]
  },
  {
   "cell_type": "code",
   "execution_count": 6,
   "metadata": {},
   "outputs": [
    {
     "data": {
      "text/plain": [
       "array([[ 1, 15,  7,  5, 12,  8],\n",
       "       [ 4,  7, 12, 11, 21, 15],\n",
       "       [ 7,  1, 21, 18, 12,  2]])"
      ]
     },
     "execution_count": 6,
     "metadata": {},
     "output_type": "execute_result"
    }
   ],
   "source": [
    "SGP = S.dot(G).dot(P) % n\n",
    "SGP"
   ]
  },
  {
   "cell_type": "code",
   "execution_count": 7,
   "metadata": {},
   "outputs": [
    {
     "data": {
      "text/plain": [
       "array([ 7,  9,  2, 12, 21, 21])"
      ]
     },
     "execution_count": 7,
     "metadata": {},
     "output_type": "execute_result"
    }
   ],
   "source": [
    "c = m.dot(SGP) % n\n",
    "c"
   ]
  },
  {
   "cell_type": "code",
   "execution_count": 8,
   "metadata": {},
   "outputs": [
    {
     "data": {
      "text/plain": [
       "array([0, 6, 0, 0, 0, 0])"
      ]
     },
     "execution_count": 8,
     "metadata": {},
     "output_type": "execute_result"
    }
   ],
   "source": [
    "ei = np.random.randint(c.shape[0])\n",
    "ev = np.random.randint(n)\n",
    "err = np.zeros(c.shape[0], dtype = int)\n",
    "err[ei] = ev\n",
    "err = np.array([0, 6, 0, 0, 0, 0])\n",
    "err"
   ]
  },
  {
   "cell_type": "code",
   "execution_count": 9,
   "metadata": {},
   "outputs": [
    {
     "data": {
      "text/plain": [
       "array([ 7, 15,  2, 12, 21, 21])"
      ]
     },
     "execution_count": 9,
     "metadata": {},
     "output_type": "execute_result"
    }
   ],
   "source": [
    "c = (c + err) % n\n",
    "c"
   ]
  },
  {
   "cell_type": "code",
   "execution_count": 10,
   "metadata": {},
   "outputs": [],
   "source": [
    "P1 = np.linalg.inv(P)\n",
    "S1 = np.linalg.inv(S)"
   ]
  },
  {
   "cell_type": "code",
   "execution_count": 11,
   "metadata": {},
   "outputs": [
    {
     "data": {
      "text/plain": [
       "array([[1., 0., 0., 0., 0., 0.],\n",
       "       [0., 0., 1., 0., 0., 0.],\n",
       "       [0., 0., 0., 0., 1., 0.],\n",
       "       [0., 1., 0., 0., 0., 0.],\n",
       "       [0., 0., 0., 0., 0., 1.],\n",
       "       [0., 0., 0., 1., 0., 0.]])"
      ]
     },
     "execution_count": 11,
     "metadata": {},
     "output_type": "execute_result"
    }
   ],
   "source": [
    "P1 "
   ]
  },
  {
   "cell_type": "code",
   "execution_count": 22,
   "metadata": {},
   "outputs": [
    {
     "data": {
      "text/plain": [
       "array([ 7, 12, 15, 21,  2, 21])"
      ]
     },
     "execution_count": 22,
     "metadata": {},
     "output_type": "execute_result"
    }
   ],
   "source": [
    "c_m = c.dot(P1).astype(int)\n",
    "c_m"
   ]
  },
  {
   "cell_type": "markdown",
   "metadata": {},
   "source": [
    "### Berlekamp-Welch Algorithm"
   ]
  },
  {
   "cell_type": "code",
   "execution_count": 47,
   "metadata": {},
   "outputs": [
    {
     "data": {
      "text/plain": [
       "array([[ 7,  0, 22,  0,  0,  0],\n",
       "       [12, 12, 22, 22, 22, 22],\n",
       "       [15,  7, 22, 21, 19, 15],\n",
       "       [21, 17, 22, 20, 14, 19],\n",
       "       [ 2,  8, 22, 19,  7,  5],\n",
       "       [21, 13, 22, 18, 21, 13]])"
      ]
     },
     "execution_count": 47,
     "metadata": {},
     "output_type": "execute_result"
    }
   ],
   "source": [
    "a = np.arange(N, dtype = int)\n",
    "b = -c_m*a**2 \n",
    "b = b.astype(int) % n\n",
    "#b = np.concatenate([[b[0]], [1], b[1:]])\n",
    "\n",
    "z = np.zeros(N)\n",
    "z[1] = 1\n",
    "BW = np.concatenate([[c_m], [c_m*a], [-np.ones(N)], [-a], [-a**2], [-a**3]], axis = 0).T\n",
    "#BW = np.concatenate([[BW[0,:]], [z] ,BW[1:,:]], axis = 0) % n\n",
    "BW = BW.astype(int) % n\n",
    "BW"
   ]
  },
  {
   "cell_type": "code",
   "execution_count": 48,
   "metadata": {},
   "outputs": [
    {
     "data": {
      "text/plain": [
       "array([ 0, 11,  9, 18, 14,  4])"
      ]
     },
     "execution_count": 48,
     "metadata": {},
     "output_type": "execute_result"
    }
   ],
   "source": [
    "b"
   ]
  },
  {
   "cell_type": "code",
   "execution_count": 50,
   "metadata": {},
   "outputs": [
    {
     "data": {
      "text/plain": [
       "array([ 0.09032973,  0.13805661, 22.97125872,  0.97292092, 21.85273417,\n",
       "        0.57851182])"
      ]
     },
     "execution_count": 50,
     "metadata": {},
     "output_type": "execute_result"
    }
   ],
   "source": [
    "p = np.linalg.solve(BW,b)  % n\n",
    "p"
   ]
  },
  {
   "cell_type": "code",
   "execution_count": 51,
   "metadata": {},
   "outputs": [],
   "source": [
    "E = np.poly1d([1, p[0]])  \n",
    "Q = np.poly1d(p[1:])  "
   ]
  },
  {
   "cell_type": "code",
   "execution_count": 52,
   "metadata": {},
   "outputs": [],
   "source": [
    "quotient, remainder = np.polydiv(Q, E) "
   ]
  },
  {
   "cell_type": "code",
   "execution_count": 53,
   "metadata": {},
   "outputs": [
    {
     "data": {
      "text/plain": [
       "poly1d([ 0.13805661, 22.9587881 , -1.10094031, 21.95218182])"
      ]
     },
     "execution_count": 53,
     "metadata": {},
     "output_type": "execute_result"
    }
   ],
   "source": [
    "quotient"
   ]
  },
  {
   "cell_type": "code",
   "execution_count": 54,
   "metadata": {},
   "outputs": [
    {
     "data": {
      "text/plain": [
       "poly1d([-1.40442294])"
      ]
     },
     "execution_count": 54,
     "metadata": {},
     "output_type": "execute_result"
    }
   ],
   "source": [
    "remainder"
   ]
  },
  {
   "cell_type": "code",
   "execution_count": null,
   "metadata": {},
   "outputs": [],
   "source": []
  }
 ],
 "metadata": {
  "kernelspec": {
   "display_name": "Python 3",
   "language": "python",
   "name": "python3"
  },
  "language_info": {
   "codemirror_mode": {
    "name": "ipython",
    "version": 3
   },
   "file_extension": ".py",
   "mimetype": "text/x-python",
   "name": "python",
   "nbconvert_exporter": "python",
   "pygments_lexer": "ipython3",
   "version": "3.7.5"
  }
 },
 "nbformat": 4,
 "nbformat_minor": 2
}
