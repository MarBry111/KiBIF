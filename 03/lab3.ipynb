{
 "cells": [
  {
   "cell_type": "code",
   "execution_count": 7,
   "metadata": {},
   "outputs": [],
   "source": [
    "import numpy as np\n",
    "from subprocess import getoutput\n",
    "import requests\n",
    "import sys\n",
    "import ssl\n",
    "import pandas as pd\n",
    "from OpenSSL import crypto\n",
    "import matplotlib.pyplot as plt\n",
    "import pandas as pd\n",
    "import os\n",
    "from Crypto.PublicKey import RSA\n",
    "from tqdm import tqdm"
   ]
  },
  {
   "cell_type": "code",
   "execution_count": 8,
   "metadata": {},
   "outputs": [],
   "source": [
    "filename = 'entropy.txt'\n",
    "data = open(filename).read().splitlines()\n"
   ]
  },
  {
   "cell_type": "code",
   "execution_count": 9,
   "metadata": {},
   "outputs": [
    {
     "name": "stdout",
     "output_type": "stream",
     "text": [
      "[3811 3811 3812 ... 3254 3260 3266]\n"
     ]
    }
   ],
   "source": [
    "data = np.array(data).astype(np.int32)\n",
    "x = np.arange(len(data))/2\n",
    "print(data)"
   ]
  },
  {
   "cell_type": "code",
   "execution_count": 10,
   "metadata": {},
   "outputs": [
    {
     "data": {
      "image/png": "[encoded data removed]",
      "text/plain": [
       "<Figure size 720x360 with 1 Axes>"
      ]
     },
     "metadata": {
      "needs_background": "light"
     },
     "output_type": "display_data"
    }
   ],
   "source": [
    "plt.figure(figsize=(10,5))\n",
    "plt.plot(x,data)\n",
    "plt.xlabel('time [s]')\n",
    "plt.ylabel(\"entopy\")\n",
    "#plt.title('Wykres entropii w czasie przy generacji klucza GPG \\n na sytemie Linux Mint 18')\n",
    "plt.xlim(0,650)\n",
    "plt.ylim(0,4000)\n",
    "plt.grid()\n",
    "plt.savefig('entriopia_NT.png')\n",
    "plt.show()\n"
   ]
  },
  {
   "cell_type": "markdown",
   "metadata": {},
   "source": [
    "# Scrapping data from webistes"
   ]
  },
  {
   "cell_type": "markdown",
   "metadata": {},
   "source": [
    "## pobranie kluczy + czyszczenie dataframea"
   ]
  },
  {
   "cell_type": "code",
   "execution_count": 18,
   "metadata": {},
   "outputs": [],
   "source": [
    "if(False):\n",
    "    keys_paths = os.listdir('keys')\n",
    "    keys_paths = ['keys/'+p for p in keys_paths]\n",
    "    \n",
    "    pd_keys = [pd.read_csv(p, index_col = 0) for p in keys_paths]\n",
    "    pd_key = pd_keys[0]\n",
    "    for p in pd_keys[1:]:\n",
    "        pd_key = pd_key.append(p)\n",
    "    \n",
    "    del pd_key['Rank']\n",
    "    \n",
    "    pd_key = pd_key.reset_index()\n",
    "    \n",
    "    del pd_key['index']\n",
    "    \n",
    "    pd_key.loc[pd_key['Key'].notnull()]\n",
    "    \n",
    "    pd_key.to_csv('domeny_klucze.csv')\n",
    "else:\n",
    "    pd_key = pd.read_csv('domeny_klucze.csv')"
   ]
  },
  {
   "cell_type": "markdown",
   "metadata": {},
   "source": [
    "## Dict = klucz : lista domen"
   ]
  },
  {
   "cell_type": "code",
   "execution_count": 19,
   "metadata": {},
   "outputs": [],
   "source": [
    "if(False):\n",
    "    key_page = {}\n",
    "    \n",
    "    for i, p in pd_key.iterrows():\n",
    "        key_decode = p['Key']\n",
    "        hostname = p['Domain']\n",
    "        if key_decode in key_page:\n",
    "            key_page[key_decode] = key_page[key_decode] + [hostname]\n",
    "        else:\n",
    "            key_page[key_decode] = [hostname,]\n",
    "            \n",
    "    del key_page[np.nan]"
   ]
  },
  {
   "cell_type": "markdown",
   "metadata": {},
   "source": [
    "## Lista - klucz, liczba domen"
   ]
  },
  {
   "cell_type": "code",
   "execution_count": 27,
   "metadata": {},
   "outputs": [],
   "source": [
    "if(False):\n",
    "    list_keys = []\n",
    "    \n",
    "    for i, k in key_page.items():\n",
    "        list_keys.append([i, len(k)])\n",
    "        \n",
    "    pd_no_keys = pd.DataFrame.from_records(list_keys)\n",
    "    \n",
    "    pd_no_keys.to_csv('key_count.csv')\n",
    "else:\n",
    "    pd_no_keys = pd.read_csv('key_count.csv', index_col = 0)"
   ]
  },
  {
   "cell_type": "code",
   "execution_count": 30,
   "metadata": {},
   "outputs": [
    {
     "data": {
      "text/html": [
       "<div>\n",
       "<style scoped>\n",
       "    .dataframe tbody tr th:only-of-type {\n",
       "        vertical-align: middle;\n",
       "    }\n",
       "\n",
       "    .dataframe tbody tr th {\n",
       "        vertical-align: top;\n",
       "    }\n",
       "\n",
       "    .dataframe thead th {\n",
       "        text-align: right;\n",
       "    }\n",
       "</style>\n",
       "<table border=\"1\" class=\"dataframe\">\n",
       "  <thead>\n",
       "    <tr style=\"text-align: right;\">\n",
       "      <th></th>\n",
       "      <th>0</th>\n",
       "      <th>1</th>\n",
       "    </tr>\n",
       "  </thead>\n",
       "  <tbody>\n",
       "    <tr>\n",
       "      <td>0</td>\n",
       "      <td>b'-----BEGIN PUBLIC KEY-----\\nMIIBIjANBgkqhkiG...</td>\n",
       "      <td>139</td>\n",
       "    </tr>\n",
       "    <tr>\n",
       "      <td>1</td>\n",
       "      <td>b'-----BEGIN PUBLIC KEY-----\\nMIIBIjANBgkqhkiG...</td>\n",
       "      <td>4</td>\n",
       "    </tr>\n",
       "    <tr>\n",
       "      <td>2</td>\n",
       "      <td>b'-----BEGIN PUBLIC KEY-----\\nMIIBIjANBgkqhkiG...</td>\n",
       "      <td>1</td>\n",
       "    </tr>\n",
       "    <tr>\n",
       "      <td>3</td>\n",
       "      <td>b'-----BEGIN PUBLIC KEY-----\\nMIIBIjANBgkqhkiG...</td>\n",
       "      <td>1</td>\n",
       "    </tr>\n",
       "    <tr>\n",
       "      <td>4</td>\n",
       "      <td>b'-----BEGIN PUBLIC KEY-----\\nMIIBIjANBgkqhkiG...</td>\n",
       "      <td>7</td>\n",
       "    </tr>\n",
       "    <tr>\n",
       "      <td>...</td>\n",
       "      <td>...</td>\n",
       "      <td>...</td>\n",
       "    </tr>\n",
       "    <tr>\n",
       "      <td>74177</td>\n",
       "      <td>b'-----BEGIN PUBLIC KEY-----\\nMIIBIjANBgkqhkiG...</td>\n",
       "      <td>1</td>\n",
       "    </tr>\n",
       "    <tr>\n",
       "      <td>74178</td>\n",
       "      <td>b'-----BEGIN PUBLIC KEY-----\\nMIIBIjANBgkqhkiG...</td>\n",
       "      <td>1</td>\n",
       "    </tr>\n",
       "    <tr>\n",
       "      <td>74179</td>\n",
       "      <td>b'-----BEGIN PUBLIC KEY-----\\nMIIBIjANBgkqhkiG...</td>\n",
       "      <td>1</td>\n",
       "    </tr>\n",
       "    <tr>\n",
       "      <td>74180</td>\n",
       "      <td>b'-----BEGIN PUBLIC KEY-----\\nMIIBIjANBgkqhkiG...</td>\n",
       "      <td>1</td>\n",
       "    </tr>\n",
       "    <tr>\n",
       "      <td>74181</td>\n",
       "      <td>b'-----BEGIN PUBLIC KEY-----\\nMIIBIjANBgkqhkiG...</td>\n",
       "      <td>1</td>\n",
       "    </tr>\n",
       "  </tbody>\n",
       "</table>\n",
       "<p>74182 rows × 2 columns</p>\n",
       "</div>"
      ],
      "text/plain": [
       "                                                       0    1\n",
       "0      b'-----BEGIN PUBLIC KEY-----\\nMIIBIjANBgkqhkiG...  139\n",
       "1      b'-----BEGIN PUBLIC KEY-----\\nMIIBIjANBgkqhkiG...    4\n",
       "2      b'-----BEGIN PUBLIC KEY-----\\nMIIBIjANBgkqhkiG...    1\n",
       "3      b'-----BEGIN PUBLIC KEY-----\\nMIIBIjANBgkqhkiG...    1\n",
       "4      b'-----BEGIN PUBLIC KEY-----\\nMIIBIjANBgkqhkiG...    7\n",
       "...                                                  ...  ...\n",
       "74177  b'-----BEGIN PUBLIC KEY-----\\nMIIBIjANBgkqhkiG...    1\n",
       "74178  b'-----BEGIN PUBLIC KEY-----\\nMIIBIjANBgkqhkiG...    1\n",
       "74179  b'-----BEGIN PUBLIC KEY-----\\nMIIBIjANBgkqhkiG...    1\n",
       "74180  b'-----BEGIN PUBLIC KEY-----\\nMIIBIjANBgkqhkiG...    1\n",
       "74181  b'-----BEGIN PUBLIC KEY-----\\nMIIBIjANBgkqhkiG...    1\n",
       "\n",
       "[74182 rows x 2 columns]"
      ]
     },
     "execution_count": 30,
     "metadata": {},
     "output_type": "execute_result"
    }
   ],
   "source": [
    "pd_no_keys"
   ]
  },
  {
   "cell_type": "code",
   "execution_count": 31,
   "metadata": {},
   "outputs": [
    {
     "data": {
      "image/png": "[encoded data removed]",
      "text/plain": [
       "<Figure size 720x360 with 1 Axes>"
      ]
     },
     "metadata": {
      "needs_background": "light"
     },
     "output_type": "display_data"
    }
   ],
   "source": [
    "if False:\n",
    "    keys_list = pd_no_keys.loc[:,1].values.tolist()\n",
    "    \n",
    "    keys_list.sort()\n",
    "    keys_list = np.array(keys_list)\n",
    "    \n",
    "    plt.figure(figsize=(10,5))\n",
    "    plt.plot(keys_list[keys_list>1], 'o')"
   ]
  },
  {
   "cell_type": "markdown",
   "metadata": {},
   "source": [
    "### Ratio"
   ]
  },
  {
   "cell_type": "code",
   "execution_count": 35,
   "metadata": {},
   "outputs": [
    {
     "name": "stdout",
     "output_type": "stream",
     "text": [
      "domens: 167421\n",
      "share key: 104600\n",
      "ratio: 0.624772280657743\n"
     ]
    }
   ],
   "source": [
    "print('domens:', np.sum(pd_no_keys[1].values))\n",
    "print('share key:', np.sum(pd_no_keys[1].values[pd_no_keys[1].values > 1]))\n",
    "print('ratio:', np.sum(pd_no_keys[1].values[pd_no_keys[1].values > 1])/np.sum(pd_no_keys[1].values))"
   ]
  },
  {
   "cell_type": "code",
   "execution_count": 36,
   "metadata": {},
   "outputs": [
    {
     "data": {
      "text/html": [
       "<div>\n",
       "<style scoped>\n",
       "    .dataframe tbody tr th:only-of-type {\n",
       "        vertical-align: middle;\n",
       "    }\n",
       "\n",
       "    .dataframe tbody tr th {\n",
       "        vertical-align: top;\n",
       "    }\n",
       "\n",
       "    .dataframe thead th {\n",
       "        text-align: right;\n",
       "    }\n",
       "</style>\n",
       "<table border=\"1\" class=\"dataframe\">\n",
       "  <thead>\n",
       "    <tr style=\"text-align: right;\">\n",
       "      <th></th>\n",
       "      <th>0</th>\n",
       "      <th>1</th>\n",
       "    </tr>\n",
       "  </thead>\n",
       "  <tbody>\n",
       "    <tr>\n",
       "      <td>304</td>\n",
       "      <td>b'-----BEGIN PUBLIC KEY-----\\nMIIBIjANBgkqhkiG...</td>\n",
       "      <td>13997</td>\n",
       "    </tr>\n",
       "    <tr>\n",
       "      <td>26</td>\n",
       "      <td>b'-----BEGIN PUBLIC KEY-----\\nMIIBIjANBgkqhkiG...</td>\n",
       "      <td>3608</td>\n",
       "    </tr>\n",
       "    <tr>\n",
       "      <td>7</td>\n",
       "      <td>b'-----BEGIN PUBLIC KEY-----\\nMIIBIjANBgkqhkiG...</td>\n",
       "      <td>2255</td>\n",
       "    </tr>\n",
       "    <tr>\n",
       "      <td>22</td>\n",
       "      <td>b'-----BEGIN PUBLIC KEY-----\\nMIIBIjANBgkqhkiG...</td>\n",
       "      <td>2155</td>\n",
       "    </tr>\n",
       "    <tr>\n",
       "      <td>27</td>\n",
       "      <td>b'-----BEGIN PUBLIC KEY-----\\nMFkwEwYHKoZIzj0C...</td>\n",
       "      <td>2129</td>\n",
       "    </tr>\n",
       "    <tr>\n",
       "      <td>...</td>\n",
       "      <td>...</td>\n",
       "      <td>...</td>\n",
       "    </tr>\n",
       "    <tr>\n",
       "      <td>17325</td>\n",
       "      <td>b'-----BEGIN PUBLIC KEY-----\\nMIIBIjANBgkqhkiG...</td>\n",
       "      <td>3</td>\n",
       "    </tr>\n",
       "    <tr>\n",
       "      <td>17324</td>\n",
       "      <td>b'-----BEGIN PUBLIC KEY-----\\nMIIBIjANBgkqhkiG...</td>\n",
       "      <td>3</td>\n",
       "    </tr>\n",
       "    <tr>\n",
       "      <td>17292</td>\n",
       "      <td>b'-----BEGIN PUBLIC KEY-----\\nMIIBIjANBgkqhkiG...</td>\n",
       "      <td>3</td>\n",
       "    </tr>\n",
       "    <tr>\n",
       "      <td>3657</td>\n",
       "      <td>b'-----BEGIN PUBLIC KEY-----\\nMIICIjANBgkqhkiG...</td>\n",
       "      <td>3</td>\n",
       "    </tr>\n",
       "    <tr>\n",
       "      <td>11568</td>\n",
       "      <td>b'-----BEGIN PUBLIC KEY-----\\nMIIBIjANBgkqhkiG...</td>\n",
       "      <td>3</td>\n",
       "    </tr>\n",
       "  </tbody>\n",
       "</table>\n",
       "<p>4731 rows × 2 columns</p>\n",
       "</div>"
      ],
      "text/plain": [
       "                                                       0      1\n",
       "304    b'-----BEGIN PUBLIC KEY-----\\nMIIBIjANBgkqhkiG...  13997\n",
       "26     b'-----BEGIN PUBLIC KEY-----\\nMIIBIjANBgkqhkiG...   3608\n",
       "7      b'-----BEGIN PUBLIC KEY-----\\nMIIBIjANBgkqhkiG...   2255\n",
       "22     b'-----BEGIN PUBLIC KEY-----\\nMIIBIjANBgkqhkiG...   2155\n",
       "27     b'-----BEGIN PUBLIC KEY-----\\nMFkwEwYHKoZIzj0C...   2129\n",
       "...                                                  ...    ...\n",
       "17325  b'-----BEGIN PUBLIC KEY-----\\nMIIBIjANBgkqhkiG...      3\n",
       "17324  b'-----BEGIN PUBLIC KEY-----\\nMIIBIjANBgkqhkiG...      3\n",
       "17292  b'-----BEGIN PUBLIC KEY-----\\nMIIBIjANBgkqhkiG...      3\n",
       "3657   b'-----BEGIN PUBLIC KEY-----\\nMIICIjANBgkqhkiG...      3\n",
       "11568  b'-----BEGIN PUBLIC KEY-----\\nMIIBIjANBgkqhkiG...      3\n",
       "\n",
       "[4731 rows x 2 columns]"
      ]
     },
     "execution_count": 36,
     "metadata": {},
     "output_type": "execute_result"
    }
   ],
   "source": [
    "pd_no_keys.loc[pd_no_keys.loc[:,1] > 2,:].sort_values(by=[1],ascending=False)"
   ]
  },
  {
   "cell_type": "markdown",
   "metadata": {},
   "source": [
    "## Duplikaty"
   ]
  },
  {
   "cell_type": "code",
   "execution_count": null,
   "metadata": {},
   "outputs": [],
   "source": [
    "= os.path.commonprefix(['apple pie available', 'apple pies'])"
   ]
  },
  {
   "cell_type": "markdown",
   "metadata": {},
   "source": [
    "### Key to number\n",
    "#### wybierz klucz z ramki danych"
   ]
  },
  {
   "cell_type": "code",
   "execution_count": 39,
   "metadata": {},
   "outputs": [],
   "source": [
    "key_str = pd_no_keys.loc[pd_no_keys.loc[:,1] > 1,:].sort_values(by=[1],ascending=False).iloc[0,0]"
   ]
  },
  {
   "cell_type": "markdown",
   "metadata": {},
   "source": [
    "#### oczyść z \\\\\\n oraz początku i końca"
   ]
  },
  {
   "cell_type": "code",
   "execution_count": 48,
   "metadata": {},
   "outputs": [
    {
     "data": {
      "text/plain": [
       "'MIIBIjANBgkqhkiG9w0BAQEFAAOCAQ8AMIIBCgKCAQEAzWJP5cMThJgMBeTvRKKl7N6ZcZAbKDVAtNBNnRhIgSitXxCzKtt9rp2RHkLn76oZjdNO25EPp+QgMiWU/rkkB00Y18Oahw5fi8s+K9dRv6i+gSOiv2jlIeW/S0hOswUUDH0JXFkEPKILzpl5ML7wdp5kt93vHxa7HswOtAxEz2WtxMdezm/3CgO3sls20wl3W03iI+kCt7HyvhGy2aRPLhJfeABpQr0Uku3q6mtomy2cgFawekN/X/aH8KknX799MPcuWutM2q88mtUEBsuZmy2nsjK9J7/yhhCRDzOV/yY8c5+l/u/rWuwwkZ2lgzGp4xBBfhXdr6+m9kmwWCUm9QIDAQAB'"
      ]
     },
     "execution_count": 48,
     "metadata": {},
     "output_type": "execute_result"
    }
   ],
   "source": [
    "key_clean = key_str[30:-29].replace('\\\\n', '')\n",
    "key_clean"
   ]
  },
  {
   "cell_type": "markdown",
   "metadata": {},
   "source": [
    "#### zamień na liczbę"
   ]
  },
  {
   "cell_type": "code",
   "execution_count": 49,
   "metadata": {},
   "outputs": [
    {
     "data": {
      "text/plain": [
       "27736142053001972894141168940794628257122595916689500327337814341233702579571191726171192003997939169360692208972473464481406697865724011100281443278195278731581691888597354870140246748527444181992252960189151142429554895594863583933923480159126397675192644829119313833703381348968107358436189284486758101278432697304788189716200964589051457558010627706789891951021560856034917805031622495121390702751622947874597999855708672897851711176185905178728389036613779517873556148898466029667317655253909482911745643898582334852578745527682659988105625551105956650520112190774383411319292036989510245130812474077825149865366508826306186444989755628705474943049498460670576842747728621377488734773120353865848580006325434517215958345375320127948921509092572086071871468998600692328490902561812395023297361667096083466166049262940079979675425955889450823899265465043743768226651703902405844287893956335783700461288503339388260968956568468069414657935693"
      ]
     },
     "execution_count": 49,
     "metadata": {},
     "output_type": "execute_result"
    }
   ],
   "source": [
    "key_int = int.from_bytes(key_clean.encode(), 'little')\n",
    "key_int"
   ]
  }
 ],
 "metadata": {
  "kernelspec": {
   "display_name": "Python 3",
   "language": "python",
   "name": "python3"
  },
  "language_info": {
   "codemirror_mode": {
    "name": "ipython",
    "version": 3
   },
   "file_extension": ".py",
   "mimetype": "text/x-python",
   "name": "python",
   "nbconvert_exporter": "python",
   "pygments_lexer": "ipython3",
   "version": "3.7.3"
  }
 },
 "nbformat": 4,
 "nbformat_minor": 4
}
