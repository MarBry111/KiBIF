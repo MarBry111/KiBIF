{
 "cells": [
  {
   "cell_type": "code",
   "execution_count": 1,
   "metadata": {},
   "outputs": [],
   "source": [
    "import numpy as np\n",
    "from subprocess import getoutput\n",
    "import requests\n",
    "import sys\n",
    "import ssl\n",
    "import pandas as pd\n",
    "from OpenSSL import crypto\n",
    "import matplotlib.pyplot as plt\n",
    "import pandas as pd\n",
    "import os"
   ]
  },
  {
   "cell_type": "code",
   "execution_count": 36,
   "metadata": {},
   "outputs": [],
   "source": [
    "filename = '/home/szlupek/Desktop/entropy.txt'\n",
    "data = open(filename).read().splitlines()\n"
   ]
  },
  {
   "cell_type": "code",
   "execution_count": 40,
   "metadata": {},
   "outputs": [
    {
     "name": "stdout",
     "output_type": "stream",
     "text": [
      "[3811 3811 3812 ... 3254 3260 3266]\n"
     ]
    }
   ],
   "source": [
    "data = np.array(data).astype(np.int32)\n",
    "x = np.arange(len(data))/2\n",
    "print(data)"
   ]
  },
  {
   "cell_type": "code",
   "execution_count": 55,
   "metadata": {},
   "outputs": [
    {
     "data": {
      "image/png": "[encoded data removed]",
      "text/plain": [
       "<Figure size 720x360 with 1 Axes>"
      ]
     },
     "metadata": {
      "needs_background": "light"
     },
     "output_type": "display_data"
    }
   ],
   "source": [
    "plt.figure(figsize=(10,5))\n",
    "plt.plot(x,data)\n",
    "plt.xlabel('time [s]')\n",
    "plt.ylabel(\"entopy\")\n",
    "#plt.title('Wykres entropii w czasie przy generacji klucza GPG \\n na sytemie Linux Mint 18')\n",
    "plt.xlim(0,650)\n",
    "plt.ylim(0,4000)\n",
    "plt.grid()\n",
    "plt.savefig('entriopia_NT.png')\n",
    "plt.show()\n"
   ]
  },
  {
   "cell_type": "markdown",
   "metadata": {},
   "source": [
    "# Scrapping data from webistes"
   ]
  },
  {
   "cell_type": "code",
   "execution_count": 5,
   "metadata": {},
   "outputs": [
    {
     "data": {
      "text/plain": [
       "['keys/pages_with_keys1000.csv',\n",
       " 'keys/pages_with_keys3000.csv',\n",
       " 'keys/pages_with_keys4000.csv',\n",
       " 'keys/pages_with_keys5000.csv',\n",
       " 'keys/pages_with_keys2000.csv',\n",
       " 'keys/pages_with_keys9000.csv',\n",
       " 'keys/pages_with_keys1.csv',\n",
       " 'keys/pages_with_keys6000.csv',\n",
       " 'keys/pages_with_keys7000.csv',\n",
       " 'keys/pages_with_keys8000.csv']"
      ]
     },
     "execution_count": 5,
     "metadata": {},
     "output_type": "execute_result"
    }
   ],
   "source": [
    "keys_paths = os.listdir('keys')\n",
    "keys_paths = ['keys/'+p for p in keys_paths]"
   ]
  },
  {
   "cell_type": "code",
   "execution_count": 50,
   "metadata": {},
   "outputs": [],
   "source": [
    "pd_keys = [pd.read_csv(p, index_col = 0) for p in keys_paths]\n",
    "pd_key = pd_keys[0]\n",
    "for p in pd_keys[1:]:\n",
    "    pd_key = pd_key.append(p)"
   ]
  },
  {
   "cell_type": "code",
   "execution_count": 51,
   "metadata": {},
   "outputs": [],
   "source": [
    "del pd_key['Rank']"
   ]
  },
  {
   "cell_type": "code",
   "execution_count": 52,
   "metadata": {},
   "outputs": [],
   "source": [
    "pd_key = pd_key.reset_index()"
   ]
  },
  {
   "cell_type": "code",
   "execution_count": 53,
   "metadata": {},
   "outputs": [],
   "source": [
    "del pd_key['index']"
   ]
  },
  {
   "cell_type": "code",
   "execution_count": 76,
   "metadata": {},
   "outputs": [
    {
     "data": {
      "text/html": [
       "<div>\n",
       "<style scoped>\n",
       "    .dataframe tbody tr th:only-of-type {\n",
       "        vertical-align: middle;\n",
       "    }\n",
       "\n",
       "    .dataframe tbody tr th {\n",
       "        vertical-align: top;\n",
       "    }\n",
       "\n",
       "    .dataframe thead th {\n",
       "        text-align: right;\n",
       "    }\n",
       "</style>\n",
       "<table border=\"1\" class=\"dataframe\">\n",
       "  <thead>\n",
       "    <tr style=\"text-align: right;\">\n",
       "      <th></th>\n",
       "      <th>Domain</th>\n",
       "      <th>OpenRank</th>\n",
       "      <th>Key</th>\n",
       "    </tr>\n",
       "  </thead>\n",
       "  <tbody>\n",
       "    <tr>\n",
       "      <td>1</td>\n",
       "      <td>ucweb.com</td>\n",
       "      <td>6.45</td>\n",
       "      <td>b'-----BEGIN PUBLIC KEY-----\\nMIIBIjANBgkqhkiG...</td>\n",
       "    </tr>\n",
       "    <tr>\n",
       "      <td>3</td>\n",
       "      <td>aljazeera.net</td>\n",
       "      <td>6.44</td>\n",
       "      <td>b'-----BEGIN PUBLIC KEY-----\\nMIIBIjANBgkqhkiG...</td>\n",
       "    </tr>\n",
       "    <tr>\n",
       "      <td>4</td>\n",
       "      <td>dictionary.cambridge.org</td>\n",
       "      <td>6.44</td>\n",
       "      <td>b'-----BEGIN PUBLIC KEY-----\\nMIIBIjANBgkqhkiG...</td>\n",
       "    </tr>\n",
       "    <tr>\n",
       "      <td>5</td>\n",
       "      <td>elitedaily.com</td>\n",
       "      <td>6.44</td>\n",
       "      <td>b'-----BEGIN PUBLIC KEY-----\\nMIIBIjANBgkqhkiG...</td>\n",
       "    </tr>\n",
       "    <tr>\n",
       "      <td>6</td>\n",
       "      <td>cambridge.org</td>\n",
       "      <td>6.44</td>\n",
       "      <td>b'-----BEGIN PUBLIC KEY-----\\nMFkwEwYHKoZIzj0C...</td>\n",
       "    </tr>\n",
       "    <tr>\n",
       "      <td>...</td>\n",
       "      <td>...</td>\n",
       "      <td>...</td>\n",
       "      <td>...</td>\n",
       "    </tr>\n",
       "    <tr>\n",
       "      <td>9994</td>\n",
       "      <td>mentalhealthcommission.ca</td>\n",
       "      <td>5.68</td>\n",
       "      <td>b'-----BEGIN PUBLIC KEY-----\\nMIIBIjANBgkqhkiG...</td>\n",
       "    </tr>\n",
       "    <tr>\n",
       "      <td>9995</td>\n",
       "      <td>blitz.gg</td>\n",
       "      <td>5.68</td>\n",
       "      <td>b'-----BEGIN PUBLIC KEY-----\\nMFkwEwYHKoZIzj0C...</td>\n",
       "    </tr>\n",
       "    <tr>\n",
       "      <td>9997</td>\n",
       "      <td>justinbiebermusic.com</td>\n",
       "      <td>5.68</td>\n",
       "      <td>b'-----BEGIN PUBLIC KEY-----\\nMIIBIjANBgkqhkiG...</td>\n",
       "    </tr>\n",
       "    <tr>\n",
       "      <td>9998</td>\n",
       "      <td>letras.mus.br</td>\n",
       "      <td>5.68</td>\n",
       "      <td>b'-----BEGIN PUBLIC KEY-----\\nMIIBIjANBgkqhkiG...</td>\n",
       "    </tr>\n",
       "    <tr>\n",
       "      <td>9999</td>\n",
       "      <td>technoserve.org</td>\n",
       "      <td>5.68</td>\n",
       "      <td>b'-----BEGIN PUBLIC KEY-----\\nMIIBIjANBgkqhkiG...</td>\n",
       "    </tr>\n",
       "  </tbody>\n",
       "</table>\n",
       "<p>6489 rows × 3 columns</p>\n",
       "</div>"
      ],
      "text/plain": [
       "                         Domain  OpenRank  \\\n",
       "1                     ucweb.com      6.45   \n",
       "3                 aljazeera.net      6.44   \n",
       "4      dictionary.cambridge.org      6.44   \n",
       "5                elitedaily.com      6.44   \n",
       "6                 cambridge.org      6.44   \n",
       "...                         ...       ...   \n",
       "9994  mentalhealthcommission.ca      5.68   \n",
       "9995                   blitz.gg      5.68   \n",
       "9997      justinbiebermusic.com      5.68   \n",
       "9998              letras.mus.br      5.68   \n",
       "9999            technoserve.org      5.68   \n",
       "\n",
       "                                                    Key  \n",
       "1     b'-----BEGIN PUBLIC KEY-----\\nMIIBIjANBgkqhkiG...  \n",
       "3     b'-----BEGIN PUBLIC KEY-----\\nMIIBIjANBgkqhkiG...  \n",
       "4     b'-----BEGIN PUBLIC KEY-----\\nMIIBIjANBgkqhkiG...  \n",
       "5     b'-----BEGIN PUBLIC KEY-----\\nMIIBIjANBgkqhkiG...  \n",
       "6     b'-----BEGIN PUBLIC KEY-----\\nMFkwEwYHKoZIzj0C...  \n",
       "...                                                 ...  \n",
       "9994  b'-----BEGIN PUBLIC KEY-----\\nMIIBIjANBgkqhkiG...  \n",
       "9995  b'-----BEGIN PUBLIC KEY-----\\nMFkwEwYHKoZIzj0C...  \n",
       "9997  b'-----BEGIN PUBLIC KEY-----\\nMIIBIjANBgkqhkiG...  \n",
       "9998  b'-----BEGIN PUBLIC KEY-----\\nMIIBIjANBgkqhkiG...  \n",
       "9999  b'-----BEGIN PUBLIC KEY-----\\nMIIBIjANBgkqhkiG...  \n",
       "\n",
       "[6489 rows x 3 columns]"
      ]
     },
     "execution_count": 76,
     "metadata": {},
     "output_type": "execute_result"
    }
   ],
   "source": [
    "pd_key.loc[pd_key['Key'].notnull()]"
   ]
  },
  {
   "cell_type": "code",
   "execution_count": 61,
   "metadata": {},
   "outputs": [],
   "source": [
    "key_page = {}"
   ]
  },
  {
   "cell_type": "code",
   "execution_count": 62,
   "metadata": {},
   "outputs": [],
   "source": [
    "for i, p in pd_key.iterrows():\n",
    "    key_decode = p['Key']\n",
    "    hostname = p['Domain']\n",
    "    if key_decode in key_page:\n",
    "        key_page[key_decode] = key_page[key_decode] + [hostname]\n",
    "    else:\n",
    "        key_page[key_decode] = [hostname,]"
   ]
  },
  {
   "cell_type": "code",
   "execution_count": 69,
   "metadata": {},
   "outputs": [],
   "source": [
    "del key_page[np.nan]"
   ]
  },
  {
   "cell_type": "code",
   "execution_count": 81,
   "metadata": {},
   "outputs": [],
   "source": [
    "list_keys = []"
   ]
  },
  {
   "cell_type": "code",
   "execution_count": 82,
   "metadata": {},
   "outputs": [],
   "source": [
    "for i, k in key_page.items():\n",
    "    list_keys.append([i, len(k)])"
   ]
  },
  {
   "cell_type": "code",
   "execution_count": 85,
   "metadata": {},
   "outputs": [],
   "source": [
    "pd_no_keys = pd.DataFrame.from_records(list_keys)"
   ]
  },
  {
   "cell_type": "code",
   "execution_count": 94,
   "metadata": {},
   "outputs": [],
   "source": [
    "keys_list = pd_no_keys.loc[:,1].values.tolist()"
   ]
  },
  {
   "cell_type": "code",
   "execution_count": 103,
   "metadata": {},
   "outputs": [],
   "source": [
    "keys_list.sort()\n",
    "keys_list = np.array(keys_list)"
   ]
  },
  {
   "cell_type": "code",
   "execution_count": 104,
   "metadata": {},
   "outputs": [
    {
     "data": {
      "text/plain": [
       "[<matplotlib.lines.Line2D at 0x7fdc534123c8>]"
      ]
     },
     "execution_count": 104,
     "metadata": {},
     "output_type": "execute_result"
    },
    {
     "data": {
      "image/png": "[encoded data removed]",
      "text/plain": [
       "<Figure size 720x360 with 1 Axes>"
      ]
     },
     "metadata": {
      "needs_background": "light"
     },
     "output_type": "display_data"
    }
   ],
   "source": [
    "plt.figure(figsize=(10,5))\n",
    "plt.plot(keys_list[keys_list>1], 'o')"
   ]
  },
  {
   "cell_type": "code",
   "execution_count": 114,
   "metadata": {},
   "outputs": [
    {
     "name": "stdout",
     "output_type": "stream",
     "text": [
      "domens: 6489\n",
      "share key: 2144\n",
      "ratio: 0.3304053012790877\n"
     ]
    }
   ],
   "source": [
    "print('domens:', np.sum(keys_list))\n",
    "print('share key:', np.sum(keys_list[keys_list > 1]))\n",
    "print('ratio:', np.sum(keys_list[keys_list > 1])/np.sum(keys_list))"
   ]
  },
  {
   "cell_type": "code",
   "execution_count": 110,
   "metadata": {},
   "outputs": [
    {
     "data": {
      "text/html": [
       "<div>\n",
       "<style scoped>\n",
       "    .dataframe tbody tr th:only-of-type {\n",
       "        vertical-align: middle;\n",
       "    }\n",
       "\n",
       "    .dataframe tbody tr th {\n",
       "        vertical-align: top;\n",
       "    }\n",
       "\n",
       "    .dataframe thead th {\n",
       "        text-align: right;\n",
       "    }\n",
       "</style>\n",
       "<table border=\"1\" class=\"dataframe\">\n",
       "  <thead>\n",
       "    <tr style=\"text-align: right;\">\n",
       "      <th></th>\n",
       "      <th>0</th>\n",
       "      <th>1</th>\n",
       "    </tr>\n",
       "  </thead>\n",
       "  <tbody>\n",
       "    <tr>\n",
       "      <td>43</td>\n",
       "      <td>b'-----BEGIN PUBLIC KEY-----\\nMIIBIjANBgkqhkiG...</td>\n",
       "      <td>217</td>\n",
       "    </tr>\n",
       "    <tr>\n",
       "      <td>57</td>\n",
       "      <td>b'-----BEGIN PUBLIC KEY-----\\nMIIBIjANBgkqhkiG...</td>\n",
       "      <td>132</td>\n",
       "    </tr>\n",
       "    <tr>\n",
       "      <td>650</td>\n",
       "      <td>b'-----BEGIN PUBLIC KEY-----\\nMFkwEwYHKoZIzj0C...</td>\n",
       "      <td>71</td>\n",
       "    </tr>\n",
       "    <tr>\n",
       "      <td>70</td>\n",
       "      <td>b'-----BEGIN PUBLIC KEY-----\\nMIIBIjANBgkqhkiG...</td>\n",
       "      <td>70</td>\n",
       "    </tr>\n",
       "    <tr>\n",
       "      <td>115</td>\n",
       "      <td>b'-----BEGIN PUBLIC KEY-----\\nMIIBIjANBgkqhkiG...</td>\n",
       "      <td>66</td>\n",
       "    </tr>\n",
       "    <tr>\n",
       "      <td>...</td>\n",
       "      <td>...</td>\n",
       "      <td>...</td>\n",
       "    </tr>\n",
       "    <tr>\n",
       "      <td>1372</td>\n",
       "      <td>b'-----BEGIN PUBLIC KEY-----\\nMIIBIjANBgkqhkiG...</td>\n",
       "      <td>2</td>\n",
       "    </tr>\n",
       "    <tr>\n",
       "      <td>1423</td>\n",
       "      <td>b'-----BEGIN PUBLIC KEY-----\\nMFkwEwYHKoZIzj0C...</td>\n",
       "      <td>2</td>\n",
       "    </tr>\n",
       "    <tr>\n",
       "      <td>1444</td>\n",
       "      <td>b'-----BEGIN PUBLIC KEY-----\\nMIIBIjANBgkqhkiG...</td>\n",
       "      <td>2</td>\n",
       "    </tr>\n",
       "    <tr>\n",
       "      <td>1445</td>\n",
       "      <td>b'-----BEGIN PUBLIC KEY-----\\nMIIBIjANBgkqhkiG...</td>\n",
       "      <td>2</td>\n",
       "    </tr>\n",
       "    <tr>\n",
       "      <td>4264</td>\n",
       "      <td>b'-----BEGIN PUBLIC KEY-----\\nMIIBIjANBgkqhkiG...</td>\n",
       "      <td>2</td>\n",
       "    </tr>\n",
       "  </tbody>\n",
       "</table>\n",
       "<p>350 rows × 2 columns</p>\n",
       "</div>"
      ],
      "text/plain": [
       "                                                      0    1\n",
       "43    b'-----BEGIN PUBLIC KEY-----\\nMIIBIjANBgkqhkiG...  217\n",
       "57    b'-----BEGIN PUBLIC KEY-----\\nMIIBIjANBgkqhkiG...  132\n",
       "650   b'-----BEGIN PUBLIC KEY-----\\nMFkwEwYHKoZIzj0C...   71\n",
       "70    b'-----BEGIN PUBLIC KEY-----\\nMIIBIjANBgkqhkiG...   70\n",
       "115   b'-----BEGIN PUBLIC KEY-----\\nMIIBIjANBgkqhkiG...   66\n",
       "...                                                 ...  ...\n",
       "1372  b'-----BEGIN PUBLIC KEY-----\\nMIIBIjANBgkqhkiG...    2\n",
       "1423  b'-----BEGIN PUBLIC KEY-----\\nMFkwEwYHKoZIzj0C...    2\n",
       "1444  b'-----BEGIN PUBLIC KEY-----\\nMIIBIjANBgkqhkiG...    2\n",
       "1445  b'-----BEGIN PUBLIC KEY-----\\nMIIBIjANBgkqhkiG...    2\n",
       "4264  b'-----BEGIN PUBLIC KEY-----\\nMIIBIjANBgkqhkiG...    2\n",
       "\n",
       "[350 rows x 2 columns]"
      ]
     },
     "execution_count": 110,
     "metadata": {},
     "output_type": "execute_result"
    }
   ],
   "source": [
    "pd_no_keys.loc[pd_no_keys.loc[:,1] > 1,:].sort_values(by=[1],ascending=False)"
   ]
  },
  {
   "cell_type": "code",
   "execution_count": null,
   "metadata": {},
   "outputs": [],
   "source": []
  }
 ],
 "metadata": {
  "kernelspec": {
   "display_name": "Python 3",
   "language": "python",
   "name": "python3"
  },
  "language_info": {
   "codemirror_mode": {
    "name": "ipython",
    "version": 3
   },
   "file_extension": ".py",
   "mimetype": "text/x-python",
   "name": "python",
   "nbconvert_exporter": "python",
   "pygments_lexer": "ipython3",
   "version": "3.7.3"
  }
 },
 "nbformat": 4,
 "nbformat_minor": 4
}
