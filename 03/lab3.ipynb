{
 "cells": [
  {
   "cell_type": "code",
   "execution_count": 10,
   "metadata": {},
   "outputs": [],
   "source": [
    "import numpy as np\n",
    "from subprocess import getoutput\n",
    "import requests\n",
    "import sys\n",
    "import ssl\n",
    "import pandas as pd\n",
    "from OpenSSL import crypto\n",
    "import matplotlib.pyplot as plt\n",
    "import pandas as pd"
   ]
  },
  {
   "cell_type": "code",
   "execution_count": 36,
   "metadata": {},
   "outputs": [],
   "source": [
    "filename = '/home/szlupek/Desktop/entropy.txt'\n",
    "data = open(filename).read().splitlines()\n"
   ]
  },
  {
   "cell_type": "code",
   "execution_count": 40,
   "metadata": {},
   "outputs": [
    {
     "name": "stdout",
     "output_type": "stream",
     "text": [
      "[3811 3811 3812 ... 3254 3260 3266]\n"
     ]
    }
   ],
   "source": [
    "data = np.array(data).astype(np.int32)\n",
    "x = np.arange(len(data))/2\n",
    "print(data)"
   ]
  },
  {
   "cell_type": "code",
   "execution_count": 55,
   "metadata": {},
   "outputs": [
    {
     "data": {
      "image/png": "[encoded data removed]",
      "text/plain": [
       "<Figure size 720x360 with 1 Axes>"
      ]
     },
     "metadata": {
      "needs_background": "light"
     },
     "output_type": "display_data"
    }
   ],
   "source": [
    "plt.figure(figsize=(10,5))\n",
    "plt.plot(x,data)\n",
    "plt.xlabel('time [s]')\n",
    "plt.ylabel(\"entopy\")\n",
    "#plt.title('Wykres entropii w czasie przy generacji klucza GPG \\n na sytemie Linux Mint 18')\n",
    "plt.xlim(0,650)\n",
    "plt.ylim(0,4000)\n",
    "plt.grid()\n",
    "plt.savefig('entriopia_NT.png')\n",
    "plt.show()\n"
   ]
  },
  {
   "cell_type": "markdown",
   "metadata": {},
   "source": [
    "# Scrapping data from webistes"
   ]
  },
  {
   "cell_type": "code",
   "execution_count": 8,
   "metadata": {},
   "outputs": [],
   "source": [
    "pd_pages = pd.read_csv('top10milliondomains.csv')"
   ]
  },
  {
   "cell_type": "code",
   "execution_count": 9,
   "metadata": {},
   "outputs": [],
   "source": [
    "pd_pages['Key'] = np.nan\n",
    "\n",
    "key_page = {}"
   ]
  },
  {
   "cell_type": "code",
   "execution_count": null,
   "metadata": {},
   "outputs": [],
   "source": [
    "j = 0\n",
    "for i, p in pd_pages.iterrows():\n",
    "    if p['Rank'] % 100 == 0:\n",
    "        print(j)\n",
    "    \n",
    "    hostname = p['Domain'] \n",
    "\n",
    "    for port in range(65536):\n",
    "        try:\n",
    "            cert = ssl.get_server_certificate((hostname, port))\n",
    "\n",
    "            x509 = crypto.load_certificate(crypto.FILETYPE_PEM, cert)\n",
    "            key = crypto.dump_publickey(crypto.FILETYPE_PEM,x509.get_pubkey())\n",
    "            key_decode = key.decode()\n",
    "\n",
    "            j += 1\n",
    "            print('succes')\n",
    "            break\n",
    "\n",
    "        except:\n",
    "            key_decode = np.nan\n",
    "    \n",
    "\n",
    "    pd_pages['Key'][i] =  key_decode\n",
    "\n",
    "    if key_decode in key_page:\n",
    "        key_page[key_decode] = key_page[key_decode] + [hostname]\n",
    "    else:\n",
    "        key_page[key_decode] = [hostname]\n",
    "\n",
    "print(len(key_page))"
   ]
  },
  {
   "cell_type": "code",
   "execution_count": null,
   "metadata": {},
   "outputs": [],
   "source": []
  }
 ],
 "metadata": {
  "kernelspec": {
   "display_name": "Python 3",
   "language": "python",
   "name": "python3"
  },
  "language_info": {
   "codemirror_mode": {
    "name": "ipython",
    "version": 3
   },
   "file_extension": ".py",
   "mimetype": "text/x-python",
   "name": "python",
   "nbconvert_exporter": "python",
   "pygments_lexer": "ipython3",
   "version": "3.7.3"
  }
 },
 "nbformat": 4,
 "nbformat_minor": 4
}
